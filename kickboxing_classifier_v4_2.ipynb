{
  "cells": [
    {
      "cell_type": "code",
      "execution_count": null,
      "metadata": {
        "id": "BsvJBgopO9YR"
      },
      "outputs": [],
      "source": [
        "import tensorflow as tf\n",
        "from tensorflow.keras.optimizers import Adam\n",
        "from tensorflow.keras.models import Sequential\n",
        "from tensorflow.keras.layers import Input, Dropout, Dense, BatchNormalization, LSTM, Bidirectional\n",
        "\n",
        "from tensorflow.keras.regularizers import l2\n",
        "from tensorflow.keras.callbacks import ReduceLROnPlateau, EarlyStopping\n",
        "\n",
        "from tensorflow.keras.utils import to_categorical\n",
        "\n",
        "import numpy as np\n",
        "import pandas as pd\n",
        "\n",
        "from sklearn.model_selection import train_test_split\n",
        "from sklearn.preprocessing import MinMaxScaler, StandardScaler\n",
        "from sklearn.neighbors import KNeighborsClassifier\n",
        "from sklearn.metrics import accuracy_score\n",
        "\n",
        "from imblearn.over_sampling import SMOTE\n",
        "\n",
        "\n",
        "\n",
        "from google.colab import drive\n",
        "\n",
        "# v3:jab, cross, left hook, right hook, left uppercut, right uppercut, left overhand, right overhand, left lowkick, right lowkick, left body kick, right body kick, guard, block left kick, block right kick, left head block, right head block, neautral\n"
      ]
    },
    {
      "cell_type": "code",
      "execution_count": null,
      "metadata": {
        "colab": {
          "base_uri": "https://localhost:8080/"
        },
        "id": "Z3p8MnWlyx0V",
        "outputId": "30d5265f-ee59-4dfd-80f9-a0dd1e5a5e5d"
      },
      "outputs": [
        {
          "name": "stdout",
          "output_type": "stream",
          "text": [
            "2.17.0\n"
          ]
        }
      ],
      "source": [
        "import tensorflow as tf\n",
        "print(tf.__version__)\n",
        "#IMPORTANT!!! Check version compatability or it won't run locally!!!"
      ]
    },
    {
      "cell_type": "code",
      "execution_count": null,
      "metadata": {
        "id": "dTBI-5rwPHEg"
      },
      "outputs": [],
      "source": [
        "# Data\n",
        "df = pd.read_csv('kickboxing_data.csv')"
      ]
    },
    {
      "cell_type": "code",
      "execution_count": null,
      "metadata": {
        "colab": {
          "base_uri": "https://localhost:8080/"
        },
        "id": "Zmd_1voNSZ3S",
        "outputId": "aec71f95-76c3-4fef-947f-ac2832cf01e3"
      },
      "outputs": [
        {
          "name": "stdout",
          "output_type": "stream",
          "text": [
            "[180.45 174.9  269.46 184.81   0.   164.4    0.   177.58]\n",
            "1\n"
          ]
        }
      ],
      "source": [
        "# Features and labels\n",
        "x = df[['Left Elbow Angle', 'Left Knee Angle', 'Left Shoulder Angle', 'Left Hip Angle', 'Right Elbow Angle', 'Right Knee Angle', 'Right Shoulder Angle', 'Right Hip Angle']].values\n",
        "y = df['Movement'].values\n",
        "\n",
        "# Print sample values\n",
        "print(x[600])\n",
        "print(y[1206])\n",
        "\n",
        "# Normalise the features\n",
        "scaler = MinMaxScaler()\n",
        "x = scaler.fit_transform(x)\n",
        "\n",
        "\n",
        "\n",
        "# Reshape for the LSTM model- IMPORTANT\n",
        "x = x.reshape(x.shape[0], -1)"
      ]
    },
    {
      "cell_type": "code",
      "execution_count": null,
      "metadata": {
        "id": "7bnldzIuZ9aW"
      },
      "outputs": [],
      "source": [
        "# Strip unwanted characters from labels and convert to integer- whoopsie :(\n",
        "y = np.array([val.strip(']') for val in y], dtype='int')"
      ]
    },
    {
      "cell_type": "code",
      "execution_count": null,
      "metadata": {
        "id": "FC3x-FFEDp4Q"
      },
      "outputs": [],
      "source": [
        "\n",
        "# Split the data into training and testing sets\n",
        "x_train, x_test, y_train, y_test = train_test_split(x, y, test_size=0.3, random_state=69)\n",
        "\n",
        "# Balance the training data via SMOTE\n",
        "smote = SMOTE(random_state=69)\n",
        "x_train_resampled, y_train_resampled = smote.fit_resample(x_train, y_train)\n",
        "\n",
        "# Normalise x_train and x_test post SMOTE\n",
        "scaler = StandardScaler()\n",
        "x_train_resampled = scaler.fit_transform(x_train_resampled)\n",
        "x_test_scaled = scaler.transform(x_test)"
      ]
    },
    {
      "cell_type": "code",
      "execution_count": null,
      "metadata": {
        "id": "nwghkdVeDxIP"
      },
      "outputs": [],
      "source": [
        "# Implement k-Nearest Neighbours (KNN)\n",
        "knn = KNeighborsClassifier(n_neighbors=5)\n",
        "knn.fit(x_train_resampled, y_train_resampled)\n",
        "\n",
        "# KNN predictions on train and test sets\n",
        "knn_predictions_train = knn.predict(x_train_resampled).reshape(-1, 1)\n",
        "knn_predictions_test = knn.predict(x_test_scaled).reshape(-1, 1)\n",
        "\n",
        "# Combine KNN predictions with original features\n",
        "x_train_combined = np.concatenate([x_train_resampled, knn_predictions_train], axis=1)\n",
        "x_test_combined = np.concatenate([x_test_scaled, knn_predictions_test], axis=1)\n"
      ]
    },
    {
      "cell_type": "code",
      "execution_count": null,
      "metadata": {
        "id": "06eUDkxzD0xZ"
      },
      "outputs": [],
      "source": [
        "# Convert y to categorical (one hot encoding)\n",
        "y_train_resampled = to_categorical(y_train_resampled, num_classes=18) #Including 0\n",
        "y_test = to_categorical(y_test, num_classes=18)"
      ]
    },
    {
      "cell_type": "code",
      "execution_count": null,
      "metadata": {
        "colab": {
          "base_uri": "https://localhost:8080/"
        },
        "id": "s3cu62IlX0rR",
        "outputId": "4b68ccc3-fb4b-4b32-e903-1ec1c1628084"
      },
      "outputs": [
        {
          "name": "stdout",
          "output_type": "stream",
          "text": [
            "(133720, 8)\n",
            "(133720, 18)\n"
          ]
        }
      ],
      "source": [
        "x_train, x_test, y_train, y_test = train_test_split(x, y, test_size=0.3, random_state=9)\n",
        "y_train = to_categorical(y_train, num_classes=18)\n",
        "y_test = to_categorical(y_test, num_classes=18)\n",
        "# 8 angles\n",
        "print(x_train.shape)\n",
        "# 18 Categories of movement including 0. 0-17.\n",
        "print(y_train.shape)"
      ]
    },
    {
      "cell_type": "code",
      "execution_count": null,
      "metadata": {
        "colab": {
          "base_uri": "https://localhost:8080/"
        },
        "collapsed": true,
        "id": "yPNmSzRsYGdh",
        "outputId": "afa08ff5-c7d7-43ea-d9ec-0a3391e352d4"
      },
      "outputs": [
        {
          "name": "stdout",
          "output_type": "stream",
          "text": [
            "Epoch 1/100\n",
            "\u001b[1m155/155\u001b[0m \u001b[32m━━━━━━━━━━━━━━━━━━━━\u001b[0m\u001b[37m\u001b[0m \u001b[1m10s\u001b[0m 27ms/step - accuracy: 0.1606 - loss: 3.1878 - val_accuracy: 0.0964 - val_loss: 3.1551 - learning_rate: 0.0010\n",
            "Epoch 2/100\n",
            "\u001b[1m155/155\u001b[0m \u001b[32m━━━━━━━━━━━━━━━━━━━━\u001b[0m\u001b[37m\u001b[0m \u001b[1m2s\u001b[0m 16ms/step - accuracy: 0.4121 - loss: 2.1581 - val_accuracy: 0.3772 - val_loss: 2.2180 - learning_rate: 0.0010\n",
            "Epoch 3/100\n",
            "\u001b[1m155/155\u001b[0m \u001b[32m━━━━━━━━━━━━━━━━━━━━\u001b[0m\u001b[37m\u001b[0m \u001b[1m3s\u001b[0m 16ms/step - accuracy: 0.5356 - loss: 1.7774 - val_accuracy: 0.6361 - val_loss: 1.5838 - learning_rate: 0.0010\n",
            "Epoch 4/100\n",
            "\u001b[1m155/155\u001b[0m \u001b[32m━━━━━━━━━━━━━━━━━━━━\u001b[0m\u001b[37m\u001b[0m \u001b[1m3s\u001b[0m 17ms/step - accuracy: 0.6062 - loss: 1.5590 - val_accuracy: 0.7474 - val_loss: 1.3655 - learning_rate: 0.0010\n",
            "Epoch 5/100\n",
            "\u001b[1m155/155\u001b[0m \u001b[32m━━━━━━━━━━━━━━━━━━━━\u001b[0m\u001b[37m\u001b[0m \u001b[1m6s\u001b[0m 21ms/step - accuracy: 0.6482 - loss: 1.4120 - val_accuracy: 0.5286 - val_loss: 1.6358 - learning_rate: 0.0010\n",
            "Epoch 6/100\n",
            "\u001b[1m155/155\u001b[0m \u001b[32m━━━━━━━━━━━━━━━━━━━━\u001b[0m\u001b[37m\u001b[0m \u001b[1m2s\u001b[0m 16ms/step - accuracy: 0.6805 - loss: 1.3002 - val_accuracy: 0.7534 - val_loss: 1.2609 - learning_rate: 0.0010\n",
            "Epoch 7/100\n",
            "\u001b[1m155/155\u001b[0m \u001b[32m━━━━━━━━━━━━━━━━━━━━\u001b[0m\u001b[37m\u001b[0m \u001b[1m2s\u001b[0m 16ms/step - accuracy: 0.7154 - loss: 1.1690 - val_accuracy: 0.6736 - val_loss: 1.3393 - learning_rate: 0.0010\n",
            "Epoch 8/100\n",
            "\u001b[1m155/155\u001b[0m \u001b[32m━━━━━━━━━━━━━━━━━━━━\u001b[0m\u001b[37m\u001b[0m \u001b[1m3s\u001b[0m 16ms/step - accuracy: 0.7362 - loss: 1.1013 - val_accuracy: 0.7888 - val_loss: 1.1125 - learning_rate: 0.0010\n",
            "Epoch 9/100\n",
            "\u001b[1m155/155\u001b[0m \u001b[32m━━━━━━━━━━━━━━━━━━━━\u001b[0m\u001b[37m\u001b[0m \u001b[1m3s\u001b[0m 20ms/step - accuracy: 0.7709 - loss: 1.0217 - val_accuracy: 0.5479 - val_loss: 1.9943 - learning_rate: 0.0010\n",
            "Epoch 10/100\n",
            "\u001b[1m155/155\u001b[0m \u001b[32m━━━━━━━━━━━━━━━━━━━━\u001b[0m\u001b[37m\u001b[0m \u001b[1m4s\u001b[0m 16ms/step - accuracy: 0.7962 - loss: 0.9565 - val_accuracy: 0.8147 - val_loss: 1.0142 - learning_rate: 0.0010\n",
            "Epoch 11/100\n",
            "\u001b[1m155/155\u001b[0m \u001b[32m━━━━━━━━━━━━━━━━━━━━\u001b[0m\u001b[37m\u001b[0m \u001b[1m3s\u001b[0m 16ms/step - accuracy: 0.7948 - loss: 0.9378 - val_accuracy: 0.8187 - val_loss: 1.0101 - learning_rate: 0.0010\n",
            "Epoch 12/100\n",
            "\u001b[1m155/155\u001b[0m \u001b[32m━━━━━━━━━━━━━━━━━━━━\u001b[0m\u001b[37m\u001b[0m \u001b[1m2s\u001b[0m 16ms/step - accuracy: 0.8301 - loss: 0.8212 - val_accuracy: 0.8247 - val_loss: 0.9794 - learning_rate: 0.0010\n",
            "Epoch 13/100\n",
            "\u001b[1m155/155\u001b[0m \u001b[32m━━━━━━━━━━━━━━━━━━━━\u001b[0m\u001b[37m\u001b[0m \u001b[1m3s\u001b[0m 21ms/step - accuracy: 0.8515 - loss: 0.7672 - val_accuracy: 0.6479 - val_loss: 1.4921 - learning_rate: 0.0010\n",
            "Epoch 14/100\n",
            "\u001b[1m155/155\u001b[0m \u001b[32m━━━━━━━━━━━━━━━━━━━━\u001b[0m\u001b[37m\u001b[0m \u001b[1m3s\u001b[0m 18ms/step - accuracy: 0.8496 - loss: 0.7462 - val_accuracy: 0.8317 - val_loss: 0.9293 - learning_rate: 0.0010\n",
            "Epoch 15/100\n",
            "\u001b[1m155/155\u001b[0m \u001b[32m━━━━━━━━━━━━━━━━━━━━\u001b[0m\u001b[37m\u001b[0m \u001b[1m2s\u001b[0m 16ms/step - accuracy: 0.8675 - loss: 0.6997 - val_accuracy: 0.7634 - val_loss: 1.0769 - learning_rate: 0.0010\n",
            "Epoch 16/100\n",
            "\u001b[1m155/155\u001b[0m \u001b[32m━━━━━━━━━━━━━━━━━━━━\u001b[0m\u001b[37m\u001b[0m \u001b[1m2s\u001b[0m 16ms/step - accuracy: 0.8732 - loss: 0.6941 - val_accuracy: 0.7138 - val_loss: 1.1264 - learning_rate: 0.0010\n",
            "Epoch 17/100\n",
            "\u001b[1m155/155\u001b[0m \u001b[32m━━━━━━━━━━━━━━━━━━━━\u001b[0m\u001b[37m\u001b[0m \u001b[1m3s\u001b[0m 16ms/step - accuracy: 0.8736 - loss: 0.6639 - val_accuracy: 0.8589 - val_loss: 0.8578 - learning_rate: 0.0010\n",
            "Epoch 18/100\n",
            "\u001b[1m155/155\u001b[0m \u001b[32m━━━━━━━━━━━━━━━━━━━━\u001b[0m\u001b[37m\u001b[0m \u001b[1m4s\u001b[0m 24ms/step - accuracy: 0.8886 - loss: 0.6342 - val_accuracy: 0.8350 - val_loss: 0.9075 - learning_rate: 0.0010\n",
            "Epoch 19/100\n",
            "\u001b[1m155/155\u001b[0m \u001b[32m━━━━━━━━━━━━━━━━━━━━\u001b[0m\u001b[37m\u001b[0m \u001b[1m4s\u001b[0m 16ms/step - accuracy: 0.8872 - loss: 0.5925 - val_accuracy: 0.7972 - val_loss: 0.9890 - learning_rate: 0.0010\n",
            "Epoch 20/100\n",
            "\u001b[1m155/155\u001b[0m \u001b[32m━━━━━━━━━━━━━━━━━━━━\u001b[0m\u001b[37m\u001b[0m \u001b[1m2s\u001b[0m 15ms/step - accuracy: 0.8956 - loss: 0.5841 - val_accuracy: 0.7776 - val_loss: 1.0235 - learning_rate: 0.0010\n",
            "Epoch 21/100\n",
            "\u001b[1m155/155\u001b[0m \u001b[32m━━━━━━━━━━━━━━━━━━━━\u001b[0m\u001b[37m\u001b[0m \u001b[1m3s\u001b[0m 16ms/step - accuracy: 0.8704 - loss: 0.6583 - val_accuracy: 0.8676 - val_loss: 0.8254 - learning_rate: 0.0010\n",
            "Epoch 22/100\n",
            "\u001b[1m155/155\u001b[0m \u001b[32m━━━━━━━━━━━━━━━━━━━━\u001b[0m\u001b[37m\u001b[0m \u001b[1m3s\u001b[0m 21ms/step - accuracy: 0.9072 - loss: 0.5452 - val_accuracy: 0.8682 - val_loss: 0.8154 - learning_rate: 0.0010\n",
            "Epoch 23/100\n",
            "\u001b[1m155/155\u001b[0m \u001b[32m━━━━━━━━━━━━━━━━━━━━\u001b[0m\u001b[37m\u001b[0m \u001b[1m3s\u001b[0m 18ms/step - accuracy: 0.8977 - loss: 0.5614 - val_accuracy: 0.8655 - val_loss: 0.8185 - learning_rate: 0.0010\n",
            "Epoch 24/100\n",
            "\u001b[1m155/155\u001b[0m \u001b[32m━━━━━━━━━━━━━━━━━━━━\u001b[0m\u001b[37m\u001b[0m \u001b[1m5s\u001b[0m 16ms/step - accuracy: 0.9035 - loss: 0.5561 - val_accuracy: 0.8658 - val_loss: 0.8156 - learning_rate: 0.0010\n",
            "Epoch 25/100\n",
            "\u001b[1m155/155\u001b[0m \u001b[32m━━━━━━━━━━━━━━━━━━━━\u001b[0m\u001b[37m\u001b[0m \u001b[1m3s\u001b[0m 17ms/step - accuracy: 0.9102 - loss: 0.5419 - val_accuracy: 0.8670 - val_loss: 0.8053 - learning_rate: 0.0010\n",
            "Epoch 26/100\n",
            "\u001b[1m155/155\u001b[0m \u001b[32m━━━━━━━━━━━━━━━━━━━━\u001b[0m\u001b[37m\u001b[0m \u001b[1m5s\u001b[0m 18ms/step - accuracy: 0.9115 - loss: 0.5279 - val_accuracy: 0.8175 - val_loss: 0.9801 - learning_rate: 0.0010\n",
            "Epoch 27/100\n",
            "\u001b[1m155/155\u001b[0m \u001b[32m━━━━━━━━━━━━━━━━━━━━\u001b[0m\u001b[37m\u001b[0m \u001b[1m2s\u001b[0m 16ms/step - accuracy: 0.9101 - loss: 0.5246 - val_accuracy: 0.8688 - val_loss: 0.7989 - learning_rate: 0.0010\n",
            "Epoch 28/100\n",
            "\u001b[1m155/155\u001b[0m \u001b[32m━━━━━━━━━━━━━━━━━━━━\u001b[0m\u001b[37m\u001b[0m \u001b[1m3s\u001b[0m 16ms/step - accuracy: 0.9076 - loss: 0.5324 - val_accuracy: 0.8697 - val_loss: 0.7933 - learning_rate: 0.0010\n",
            "Epoch 29/100\n",
            "\u001b[1m155/155\u001b[0m \u001b[32m━━━━━━━━━━━━━━━━━━━━\u001b[0m\u001b[37m\u001b[0m \u001b[1m3s\u001b[0m 16ms/step - accuracy: 0.9080 - loss: 0.5189 - val_accuracy: 0.8380 - val_loss: 0.8664 - learning_rate: 0.0010\n",
            "Epoch 30/100\n",
            "\u001b[1m155/155\u001b[0m \u001b[32m━━━━━━━━━━━━━━━━━━━━\u001b[0m\u001b[37m\u001b[0m \u001b[1m5s\u001b[0m 16ms/step - accuracy: 0.9169 - loss: 0.4855 - val_accuracy: 0.8616 - val_loss: 0.8127 - learning_rate: 0.0010\n",
            "Epoch 31/100\n",
            "\u001b[1m155/155\u001b[0m \u001b[32m━━━━━━━━━━━━━━━━━━━━\u001b[0m\u001b[37m\u001b[0m \u001b[1m3s\u001b[0m 19ms/step - accuracy: 0.9139 - loss: 0.5080 - val_accuracy: 0.8707 - val_loss: 0.7942 - learning_rate: 0.0010\n",
            "Epoch 32/100\n",
            "\u001b[1m155/155\u001b[0m \u001b[32m━━━━━━━━━━━━━━━━━━━━\u001b[0m\u001b[37m\u001b[0m \u001b[1m5s\u001b[0m 19ms/step - accuracy: 0.9168 - loss: 0.5098 - val_accuracy: 0.8241 - val_loss: 0.9029 - learning_rate: 0.0010\n",
            "Epoch 33/100\n",
            "\u001b[1m155/155\u001b[0m \u001b[32m━━━━━━━━━━━━━━━━━━━━\u001b[0m\u001b[37m\u001b[0m \u001b[1m5s\u001b[0m 16ms/step - accuracy: 0.9100 - loss: 0.5192 - val_accuracy: 0.7670 - val_loss: 1.0552 - learning_rate: 0.0010\n",
            "Epoch 34/100\n",
            "\u001b[1m155/155\u001b[0m \u001b[32m━━━━━━━━━━━━━━━━━━━━\u001b[0m\u001b[37m\u001b[0m \u001b[1m2s\u001b[0m 16ms/step - accuracy: 0.9137 - loss: 0.5033 - val_accuracy: 0.8670 - val_loss: 0.7820 - learning_rate: 0.0010\n",
            "Epoch 35/100\n",
            "\u001b[1m155/155\u001b[0m \u001b[32m━━━━━━━━━━━━━━━━━━━━\u001b[0m\u001b[37m\u001b[0m \u001b[1m2s\u001b[0m 16ms/step - accuracy: 0.9224 - loss: 0.4728 - val_accuracy: 0.8643 - val_loss: 0.7784 - learning_rate: 0.0010\n",
            "Epoch 36/100\n",
            "\u001b[1m155/155\u001b[0m \u001b[32m━━━━━━━━━━━━━━━━━━━━\u001b[0m\u001b[37m\u001b[0m \u001b[1m3s\u001b[0m 19ms/step - accuracy: 0.9197 - loss: 0.4633 - val_accuracy: 0.8697 - val_loss: 0.7875 - learning_rate: 0.0010\n",
            "Epoch 37/100\n",
            "\u001b[1m155/155\u001b[0m \u001b[32m━━━━━━━━━━━━━━━━━━━━\u001b[0m\u001b[37m\u001b[0m \u001b[1m3s\u001b[0m 18ms/step - accuracy: 0.9215 - loss: 0.4705 - val_accuracy: 0.8676 - val_loss: 0.8044 - learning_rate: 0.0010\n",
            "Epoch 38/100\n",
            "\u001b[1m155/155\u001b[0m \u001b[32m━━━━━━━━━━━━━━━━━━━━\u001b[0m\u001b[37m\u001b[0m \u001b[1m2s\u001b[0m 16ms/step - accuracy: 0.9166 - loss: 0.4782 - val_accuracy: 0.8592 - val_loss: 0.8087 - learning_rate: 0.0010\n",
            "Epoch 39/100\n",
            "\u001b[1m155/155\u001b[0m \u001b[32m━━━━━━━━━━━━━━━━━━━━\u001b[0m\u001b[37m\u001b[0m \u001b[1m2s\u001b[0m 15ms/step - accuracy: 0.9234 - loss: 0.4669 - val_accuracy: 0.8704 - val_loss: 0.7771 - learning_rate: 0.0010\n",
            "Epoch 40/100\n",
            "\u001b[1m155/155\u001b[0m \u001b[32m━━━━━━━━━━━━━━━━━━━━\u001b[0m\u001b[37m\u001b[0m \u001b[1m2s\u001b[0m 16ms/step - accuracy: 0.9181 - loss: 0.4757 - val_accuracy: 0.8716 - val_loss: 0.7915 - learning_rate: 0.0010\n",
            "Epoch 41/100\n",
            "\u001b[1m155/155\u001b[0m \u001b[32m━━━━━━━━━━━━━━━━━━━━\u001b[0m\u001b[37m\u001b[0m \u001b[1m3s\u001b[0m 21ms/step - accuracy: 0.9277 - loss: 0.4569 - val_accuracy: 0.7957 - val_loss: 1.1393 - learning_rate: 0.0010\n",
            "Epoch 42/100\n",
            "\u001b[1m155/155\u001b[0m \u001b[32m━━━━━━━━━━━━━━━━━━━━\u001b[0m\u001b[37m\u001b[0m \u001b[1m3s\u001b[0m 18ms/step - accuracy: 0.9234 - loss: 0.4732 - val_accuracy: 0.8217 - val_loss: 0.9772 - learning_rate: 0.0010\n",
            "Epoch 43/100\n",
            "\u001b[1m155/155\u001b[0m \u001b[32m━━━━━━━━━━━━━━━━━━━━\u001b[0m\u001b[37m\u001b[0m \u001b[1m5s\u001b[0m 16ms/step - accuracy: 0.9272 - loss: 0.4447 - val_accuracy: 0.8719 - val_loss: 0.7858 - learning_rate: 0.0010\n",
            "Epoch 44/100\n",
            "\u001b[1m155/155\u001b[0m \u001b[32m━━━━━━━━━━━━━━━━━━━━\u001b[0m\u001b[37m\u001b[0m \u001b[1m3s\u001b[0m 16ms/step - accuracy: 0.9286 - loss: 0.4394 - val_accuracy: 0.8707 - val_loss: 0.7907 - learning_rate: 0.0010\n",
            "Epoch 45/100\n",
            "\u001b[1m155/155\u001b[0m \u001b[32m━━━━━━━━━━━━━━━━━━━━\u001b[0m\u001b[37m\u001b[0m \u001b[1m4s\u001b[0m 23ms/step - accuracy: 0.9204 - loss: 0.4819 - val_accuracy: 0.8716 - val_loss: 0.7855 - learning_rate: 0.0010\n",
            "Epoch 46/100\n",
            "\u001b[1m155/155\u001b[0m \u001b[32m━━━━━━━━━━━━━━━━━━━━\u001b[0m\u001b[37m\u001b[0m \u001b[1m3s\u001b[0m 18ms/step - accuracy: 0.9280 - loss: 0.4551 - val_accuracy: 0.8704 - val_loss: 0.7802 - learning_rate: 0.0010\n",
            "Epoch 47/100\n",
            "\u001b[1m155/155\u001b[0m \u001b[32m━━━━━━━━━━━━━━━━━━━━\u001b[0m\u001b[37m\u001b[0m \u001b[1m3s\u001b[0m 18ms/step - accuracy: 0.9265 - loss: 0.4457 - val_accuracy: 0.8704 - val_loss: 0.7795 - learning_rate: 0.0010\n",
            "Epoch 48/100\n",
            "\u001b[1m155/155\u001b[0m \u001b[32m━━━━━━━━━━━━━━━━━━━━\u001b[0m\u001b[37m\u001b[0m \u001b[1m5s\u001b[0m 17ms/step - accuracy: 0.9283 - loss: 0.4390 - val_accuracy: 0.8722 - val_loss: 0.7694 - learning_rate: 0.0010\n",
            "Epoch 49/100\n",
            "\u001b[1m155/155\u001b[0m \u001b[32m━━━━━━━━━━━━━━━━━━━━\u001b[0m\u001b[37m\u001b[0m \u001b[1m5s\u001b[0m 16ms/step - accuracy: 0.9261 - loss: 0.4502 - val_accuracy: 0.8707 - val_loss: 0.7984 - learning_rate: 0.0010\n",
            "Epoch 50/100\n",
            "\u001b[1m155/155\u001b[0m \u001b[32m━━━━━━━━━━━━━━━━━━━━\u001b[0m\u001b[37m\u001b[0m \u001b[1m3s\u001b[0m 16ms/step - accuracy: 0.9299 - loss: 0.4364 - val_accuracy: 0.8329 - val_loss: 0.8505 - learning_rate: 0.0010\n",
            "Epoch 51/100\n",
            "\u001b[1m155/155\u001b[0m \u001b[32m━━━━━━━━━━━━━━━━━━━━\u001b[0m\u001b[37m\u001b[0m \u001b[1m3s\u001b[0m 17ms/step - accuracy: 0.9271 - loss: 0.4404 - val_accuracy: 0.7159 - val_loss: 1.3611 - learning_rate: 0.0010\n",
            "Epoch 52/100\n",
            "\u001b[1m155/155\u001b[0m \u001b[32m━━━━━━━━━━━━━━━━━━━━\u001b[0m\u001b[37m\u001b[0m \u001b[1m3s\u001b[0m 19ms/step - accuracy: 0.9286 - loss: 0.4394 - val_accuracy: 0.8716 - val_loss: 0.7713 - learning_rate: 0.0010\n",
            "Epoch 53/100\n",
            "\u001b[1m155/155\u001b[0m \u001b[32m━━━━━━━━━━━━━━━━━━━━\u001b[0m\u001b[37m\u001b[0m \u001b[1m3s\u001b[0m 19ms/step - accuracy: 0.9302 - loss: 0.4442 - val_accuracy: 0.8719 - val_loss: 0.7883 - learning_rate: 0.0010\n",
            "Epoch 54/100\n",
            "\u001b[1m155/155\u001b[0m \u001b[32m━━━━━━━━━━━━━━━━━━━━\u001b[0m\u001b[37m\u001b[0m \u001b[1m3s\u001b[0m 17ms/step - accuracy: 0.9298 - loss: 0.4294 - val_accuracy: 0.8682 - val_loss: 0.7883 - learning_rate: 0.0010\n",
            "Epoch 55/100\n",
            "\u001b[1m155/155\u001b[0m \u001b[32m━━━━━━━━━━━━━━━━━━━━\u001b[0m\u001b[37m\u001b[0m \u001b[1m5s\u001b[0m 16ms/step - accuracy: 0.9287 - loss: 0.4370 - val_accuracy: 0.8697 - val_loss: 0.7863 - learning_rate: 0.0010\n",
            "Epoch 56/100\n",
            "\u001b[1m155/155\u001b[0m \u001b[32m━━━━━━━━━━━━━━━━━━━━\u001b[0m\u001b[37m\u001b[0m \u001b[1m4s\u001b[0m 24ms/step - accuracy: 0.9254 - loss: 0.4616 - val_accuracy: 0.8679 - val_loss: 0.7925 - learning_rate: 0.0010\n",
            "Epoch 57/100\n",
            "\u001b[1m155/155\u001b[0m \u001b[32m━━━━━━━━━━━━━━━━━━━━\u001b[0m\u001b[37m\u001b[0m \u001b[1m4s\u001b[0m 17ms/step - accuracy: 0.9315 - loss: 0.4148 - val_accuracy: 0.8704 - val_loss: 0.7711 - learning_rate: 0.0010\n",
            "Epoch 58/100\n",
            "\u001b[1m155/155\u001b[0m \u001b[32m━━━━━━━━━━━━━━━━━━━━\u001b[0m\u001b[37m\u001b[0m \u001b[1m3s\u001b[0m 17ms/step - accuracy: 0.9299 - loss: 0.4370 - val_accuracy: 0.8722 - val_loss: 0.7739 - learning_rate: 0.0010\n",
            "104/104 - 0s - 4ms/step - accuracy: 0.8722 - loss: 0.7694\n",
            "\n",
            "Test accuracy: 0.8721668124198914\n"
          ]
        }
      ],
      "source": [
        "# Define improved modelarchitecture\n",
        "model = Sequential([\n",
        "    Input(shape=(x_train_combined.shape[1], 1)),  # Shape (timesteps,features)\n",
        "    # LSTM's\n",
        "    # First layer\n",
        "    Bidirectional(LSTM(64, return_sequences=True)),\n",
        "    BatchNormalization(),\n",
        "    Dropout(0.3),\n",
        "\n",
        "    # Second LSTM layer\n",
        "    LSTM(128, return_sequences=True),\n",
        "    BatchNormalization(),\n",
        "    Dropout(0.3),\n",
        "\n",
        "    # Third LSTM layer (final layer)\n",
        "    LSTM(64, return_sequences=False),\n",
        "    BatchNormalization(),\n",
        "    Dropout(0.3),\n",
        "\n",
        "    # Fully connected\n",
        "    Dense(128, activation='relu', kernel_regularizer=l2(0.002)),\n",
        "    BatchNormalization(),\n",
        "    Dropout(0.5),\n",
        "\n",
        "    Dense(64, activation='relu', kernel_regularizer=l2(0.002)),\n",
        "    BatchNormalization(),\n",
        "    Dropout(0.5),\n",
        "\n",
        "    Dense(32, activation='relu', kernel_regularizer=l2(0.002)),\n",
        "    BatchNormalization(),\n",
        "\n",
        "    # Output layer\n",
        "    Dense(18, activation='softmax') # 0-17, 0 inclusive\n",
        "])\n",
        "\n",
        "\n",
        "# Compilation\n",
        "model.compile(optimizer=Adam(learning_rate=0.001),\n",
        "              loss='categorical_crossentropy',\n",
        "              metrics=['accuracy'])\n",
        "\n",
        "# Define callbacks\n",
        "reduce_lr = ReduceLROnPlateau(monitor='val_loss', factor=0.5, patience=10, min_lr=0.00003)\n",
        "early_stopping = EarlyStopping(monitor='val_loss', patience=10, restore_best_weights=True)\n",
        "\n",
        "# Train the model\n",
        "model.fit(x_train_combined, y_train_resampled, epochs=100, batch_size=64, validation_data=(x_test_combined, y_test), callbacks=[reduce_lr, early_stopping])\n",
        "\n",
        "# Evaluate the model on the test set\n",
        "test_loss, test_acc = model.evaluate(x_test_combined, y_test, verbose=2)\n",
        "\n",
        "print('\\nTest accuracy:', test_acc)\n",
        "\n",
        "# Save\n",
        "model.save('kickboxing_classifier_improved_with_knn.keras')"
      ]
    }
  ],
  "metadata": {
    "accelerator": "GPU",
    "colab": {
      "gpuType": "T4",
      "provenance": []
    },
    "kernelspec": {
      "display_name": "Python 3",
      "name": "python3"
    },
    "language_info": {
      "name": "python"
    }
  },
  "nbformat": 4,
  "nbformat_minor": 0
}
